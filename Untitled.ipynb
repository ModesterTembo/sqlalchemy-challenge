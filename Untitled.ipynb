{
 "cells": [
  {
   "cell_type": "code",
   "execution_count": 41,
   "id": "de3a26ff-f7b9-42ea-93c7-dc30953c2be5",
   "metadata": {},
   "outputs": [
    {
     "name": "stderr",
     "output_type": "stream",
     "text": [
      "/var/folders/pq/m0qzt3d55l39kx3nwyjhkt8w0000gn/T/ipykernel_99846/3661113107.py:11: SADeprecationWarning: The AutomapBase.prepare.reflect parameter is deprecated and will be removed in a future release.  Reflection is enabled when AutomapBase.prepare.autoload_with is passed.\n",
      "  Base.prepare(engine, reflect=True)\n"
     ]
    },
    {
     "ename": "NameError",
     "evalue": "name 'results' is not defined",
     "output_type": "error",
     "traceback": [
      "\u001b[0;31m---------------------------------------------------------------------------\u001b[0m",
      "\u001b[0;31mNameError\u001b[0m                                 Traceback (most recent call last)",
      "Cell \u001b[0;32mIn[41], line 54\u001b[0m\n\u001b[1;32m     51\u001b[0m     results \u001b[38;5;241m=\u001b[39m session\u001b[38;5;241m.\u001b[39mquery(Station\u001b[38;5;241m.\u001b[39mstation)\u001b[38;5;241m.\u001b[39mall() \n\u001b[1;32m     53\u001b[0m \u001b[38;5;66;03m# Convert list of tuples into normal list \u001b[39;00m\n\u001b[0;32m---> 54\u001b[0m stations_list \u001b[38;5;241m=\u001b[39m \u001b[38;5;28mlist\u001b[39m(np\u001b[38;5;241m.\u001b[39mravel(results)) \n\u001b[1;32m     55\u001b[0m \u001b[38;5;28;01mreturn\u001b[39;00m jsonify(stations_list)\n\u001b[1;32m     57\u001b[0m \u001b[38;5;129m@app\u001b[39m\u001b[38;5;241m.\u001b[39mroute(\u001b[38;5;124m\"\u001b[39m\u001b[38;5;124m/api/v1.0/tobs\u001b[39m\u001b[38;5;124m\"\u001b[39m) \n\u001b[1;32m     58\u001b[0m \u001b[38;5;28;01mdef\u001b[39;00m \u001b[38;5;21mtobs\u001b[39m(): \n\u001b[1;32m     59\u001b[0m     \u001b[38;5;66;03m# Identify the most active station \u001b[39;00m\n",
      "\u001b[0;31mNameError\u001b[0m: name 'results' is not defined"
     ]
    }
   ],
   "source": [
    "from flask import Flask, jsonify \n",
    "import datetime as dt \n",
    "import pandas as pd \n",
    "import numpy as np \n",
    "from sqlalchemy.ext.automap import automap_base \n",
    "from sqlalchemy.orm import Session \n",
    "from sqlalchemy import create_engine, func \n",
    "# Database setup \n",
    "engine = create_engine(\"sqlite:///Resources/hawaii.sqlite\") \n",
    "Base = automap_base() \n",
    "Base.prepare(engine, reflect=True) \n",
    "\n",
    "# Save references to each table \n",
    "Measurement = Base.classes.measurement \n",
    "Station = Base.classes.station \n",
    "# Create our session (link) from Python to the DB \n",
    "session = Session(engine) \n",
    "\n",
    "# Flask setup \n",
    "app = Flask(__name__) \n",
    "\n",
    "# Flask routes \n",
    "@app.route(\"/\") \n",
    "def welcome(): \n",
    "    return ( \n",
    "        f\"Welcome to the Climate API!<br/>\" \n",
    "        f\"Available Routes:<br/>\" \n",
    "        f\"/api/v1.0/precipitation<br/>\" \n",
    "        f\"/api/v1.0/stations<br/>\" \n",
    "        f\"/api/v1.0/tobs<br/>\" \n",
    "        f\"/api/v1.0/<start><br/>\" \n",
    "        f\"/api/v1.0/<start>/<end><br/>\" ) \n",
    "\n",
    "@app.route(\"/api/v1.0/precipitation\") \n",
    "def precipitation(): \n",
    "    # Calculate the date one year from the last date in dataset \n",
    "    most_recent_date = session.query(func.max(Measurement.date)).scalar() \n",
    "    most_recent_data = dt.datetime.strptime(most_recent_date, '%Y-%m-%d') \n",
    "    one_year_ago = most_recent_data - dt.timedelta(days=365) \n",
    "# Query to retrieve the data and precipitation scores \n",
    "    precipitation_data = session.query(Measurement.date, Measurement.prcp).\\\n",
    "        filter(Measurement.date >= one_year_ago).all() \n",
    "\n",
    "# Convert the query results to a dictionary using date as the key and prcp as the value \n",
    "    precipitation_dict = {date: prcp for date, prcp in precipitation_data} \n",
    "    return jsonify(precipitation_dict) \n",
    "\n",
    "@app.route(\"/api/v1.0/stations\") \n",
    "def stations(): \n",
    "    # Query to retrieve all stations \n",
    "    results = session.query(Station.station).all() \n",
    "\n",
    "# Convert list of tuples into normal list \n",
    "    stations_list = list(np.ravel(results)) \n",
    "    return jsonify(stations_list)\n",
    "\n",
    "@app.route(\"/api/v1.0/tobs\") \n",
    "def tobs(): \n",
    "    # Identify the most active station \n",
    "    most_active_station_id = session.query(Measurement.station, func.count(Measurement.station)).\\\n",
    "        group_by(Measurement.station).\\\n",
    "        order_by(func.count(Measurement.station).desc()).first()[0] \n",
    "# Calculate the date one year from the last date in dataset \n",
    "    most_recent_date = session. query(func. max(Measurement. date)).scalar() \n",
    "    most_recent_data = dt.datetime.strptime(most_recent_date, '%Y-%m-%d') \n",
    "    one_year_ago = most_recent_data - dt.timedelta (days=365) \n",
    "# Query the last 12 months of temperature observation data for the most active station \n",
    "temperature_data = session. query(Measurement. tabs).\\\n",
    "filter(Measurement.station == most_active_station_id).\\\n",
    "filter(Measurement.date >= one_year_ago).all() \n",
    "# Convert list of tuples into normal list \n",
    "temperature_list = list(np. ravel(temperature_data)) \n",
    "return jsonify(temperature_list) \n",
    "\n",
    "@app.route(\"/api/v1.0/<start>\") \n",
    "@app.route(\"/api/v1.0/<start>/<end>\") \n",
    "def temp_stats(start=None, end=None): \n",
    "    # Create a session session = Session(engine) # Define the selection criteria for the query \n",
    "    sel = [func.min(Measurement.tobs), \n",
    "           func.avg(Measurement.tobs), \n",
    "           func.max(Measurement.tobs)] \n",
    "if end: \n",
    "    # Query the minimum, average, and maximum temperature for the specified start and end date range \n",
    "    results = session.query(*sel).filter(Measurement.date >= start).filter(Measurement.date <= end).all() \n",
    "else: \n",
    "# Query the minimum, average, and maximum temperature for the specified start date \n",
    "    results = session. query(*sel).filter(Measurement. date >= start).all()\n",
    "\n",
    "# Convert list of tuples into normal list \n",
    "temp_list = list(np.ravel(results)) \n",
    "return jsonify(temp_list) \n",
    "if __name__ == '__main__': app.run(debug=True)"
   ]
  },
  {
   "cell_type": "code",
   "execution_count": 2,
   "id": "f15cc80d-475a-45d7-a554-416832e4839a",
   "metadata": {},
   "outputs": [
    {
     "name": "stderr",
     "output_type": "stream",
     "text": [
      "/var/folders/pq/m0qzt3d55l39kx3nwyjhkt8w0000gn/T/ipykernel_99846/2934932353.py:4: SADeprecationWarning: The AutomapBase.prepare.reflect parameter is deprecated and will be removed in a future release.  Reflection is enabled when AutomapBase.prepare.autoload_with is passed.\n",
      "  Base.prepare(engine, reflect=True)\n"
     ]
    }
   ],
   "source": [
    "# Database setup \n",
    "engine = create_engine(\"sqlite:///Resources/hawaii.sqlite\") \n",
    "Base = automap_base() \n",
    "Base.prepare(engine, reflect=True) \n",
    "# Save references to each table \n",
    "Measurement = Base.classes.measurement \n",
    "Station = Base.classes.station "
   ]
  },
  {
   "cell_type": "code",
   "execution_count": 5,
   "id": "6bf0bbaf-9488-4acb-a66a-304d5cb1a6ed",
   "metadata": {},
   "outputs": [],
   "source": [
    "# Create our session (link) from Python to the DB \n",
    "session = Session(engine) "
   ]
  },
  {
   "cell_type": "code",
   "execution_count": 7,
   "id": "6867da99-5c8b-42f6-a4ca-42b96c6dc7ff",
   "metadata": {},
   "outputs": [],
   "source": [
    "# Flask setup \n",
    "app = Flask(__name__) \n",
    "# Flask routes @app.route(\"/\") \n",
    "def welcome(): \n",
    "    return ( \n",
    "        f\"Welcome to the Climate API!<br/>\" \n",
    "        f\"Available Routes:<br/>\" \n",
    "        f\"/api/v1.0/precipitation<br/>\" \n",
    "        f\"/api/v1.0/stations<br/>\" \n",
    "        f\"/api/v1.0/tobs<br/>\" \n",
    "        f\"/api/v1.0/<start><br/>\" \n",
    "        f\"/api/v1.0/<start>/<end><br/>\" ) \n",
    "\n",
    "@app.route(\"/api/v1.0/precipitation\") \n",
    "def precipitation(): \n",
    "    # Calculate the date one year from the last date in dataset \n",
    "    most_recent_date = session.query(func.max(Measurement.date)).scalar() \n",
    "    most_recent_data = dt.datetime.strptime(most_recent_date, '%Y-%m-%d') \n",
    "    one_year_ago = most_recent_data - dt.timedelta(days=365) \n",
    "# Query to retrieve the data and precipitation scores \n",
    "    precipitation_data = session.query(Measurement.date, Measurement.prcp).\\\n",
    "        filter(Measurement.date >= one_year_ago).all() \n",
    "\n",
    "# Convert the query results to a dictionary using date as the key and prcp as the value \n",
    "    precipitation_dict = {date: prcp for date, prcp in precipitation_data} \n",
    "    return jsonify(precipitation_dict)\n",
    "\n",
    "@app.route(\"/api/v1.0/stations\") \n",
    "def stations(): \n",
    "    # Query to retrieve all stations \n",
    "    results = session.query(Station.station).all() \n",
    "# Convert list of tuples into normal list \n",
    "    stations_list = list(np.ravel(results)) \n",
    "    return jsonify(stations_list) \n",
    "\n",
    "@app.route(\"/api/v1.0/tobs\") \n",
    "def tobs(): \n",
    "    # Identify the most active station \n",
    "    most_active_station_id = session.query(Measurement.station, func.count(Measurement.station)).\\\n",
    "        group_by(Measurement.station).\\\n",
    "        order_by(func.count(Measurement.station).desc()).first()[0] "
   ]
  },
  {
   "cell_type": "code",
   "execution_count": 11,
   "id": "b5fb8aa3-bbff-4e3c-87a8-e37733af0694",
   "metadata": {},
   "outputs": [],
   "source": [
    "# Calculate the date one year from the last date in dataset \n",
    "most_recent_date = session. query(func. max(Measurement. date)).scalar() \n",
    "most_recent_data = dt.datetime.strptime(most_recent_date, '%Y-%m-%d') \n",
    "one_year_ago = most_recent_data - dt. timedelta (days=365) "
   ]
  },
  {
   "cell_type": "code",
   "execution_count": 25,
   "id": "1bca36ab-2e4e-4282-96b4-a94eb0df44f7",
   "metadata": {},
   "outputs": [
    {
     "ename": "SyntaxError",
     "evalue": "incomplete input (1298431572.py, line 13)",
     "output_type": "error",
     "traceback": [
      "\u001b[0;36m  Cell \u001b[0;32mIn[25], line 13\u001b[0;36m\u001b[0m\n\u001b[0;31m    \u001b[0m\n\u001b[0m    ^\u001b[0m\n\u001b[0;31mSyntaxError\u001b[0m\u001b[0;31m:\u001b[0m incomplete input\n"
     ]
    }
   ],
   "source": [
    "# Query the last 12 months of temperature observation data for the most active station \n",
    "temperature_data = session.query(Measurement.tobs).\\\n",
    "    filter(Measurement.station == most_active_station_id).\\\n",
    "    filter(Measurement.date >= one_year_ago).all() \n",
    "# Convert list of tuples into normal list \n",
    "temperature_list = list(np.ravel(temperature_data)) \n",
    "\n",
    "return jsonify(temperature_list) \n",
    "\n",
    "@app.route(\"/api/v1.0/<start>\")\n",
    "@app.route(\"/api/v1.0/<start>/<end>\")\n",
    "def temp_stats(start=None, end=None):\n",
    " "
   ]
  },
  {
   "cell_type": "code",
   "execution_count": null,
   "id": "856d6013-a471-47cd-965a-cb23b33780ba",
   "metadata": {},
   "outputs": [],
   "source": [
    "   \n",
    "    # Create a session \n",
    "    session = Session(engine) \n",
    "# Define the selection criteria for the query \n",
    "sel = [func.min(Measurement. tabs), func.avg(Measurement. tabs), func.max(Measurement. tombs)] \n",
    "if not end: \n",
    "    # Query the minimum, average, and maximum temperature fortart date \n",
    "    results = session.query(*sel).filter(Measurement.date >= start).all() \n",
    "else: \n",
    "    # Query the minimum, average, and maximum temperature for the specified start and end date range \n",
    "results = session.query(*sel).filter(Measurement.date >= start).filter(Measurement.date <= end).all() \n",
    "\n",
    "# Convert list of tuples into normal list \n",
    "    temp_list = list(np.ravel(results)) \n",
    "    return jsonify(temp_list)\n",
    "\n",
    "if __name__ == '__main__': app.run(debug=True)"
   ]
  }
 ],
 "metadata": {
  "kernelspec": {
   "display_name": "Python 3 (ipykernel)",
   "language": "python",
   "name": "python3"
  },
  "language_info": {
   "codemirror_mode": {
    "name": "ipython",
    "version": 3
   },
   "file_extension": ".py",
   "mimetype": "text/x-python",
   "name": "python",
   "nbconvert_exporter": "python",
   "pygments_lexer": "ipython3",
   "version": "3.12.4"
  }
 },
 "nbformat": 4,
 "nbformat_minor": 5
}
